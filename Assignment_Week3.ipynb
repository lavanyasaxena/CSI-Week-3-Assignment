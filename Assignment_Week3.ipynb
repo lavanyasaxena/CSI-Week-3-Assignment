{
 "cells": [
  {
   "cell_type": "markdown",
   "id": "4c193234-1694-4584-b21c-2bb4973c5af7",
   "metadata": {},
   "source": [
    "# Week 3 : Considered *Titanic Data* for visualization"
   ]
  },
  {
   "cell_type": "markdown",
   "id": "dac718f6-ea08-4900-8100-3f91111389d6",
   "metadata": {},
   "source": [
    "## Importing libraries and dataset"
   ]
  },
  {
   "cell_type": "code",
   "execution_count": 124,
   "id": "dfe0c7da-9535-4422-8a05-86e8a33144da",
   "metadata": {},
   "outputs": [],
   "source": [
    "import pandas as pd\n",
    "import numpy as np\n",
    "import matplotlib.pyplot as plt\n",
    "import seaborn as sns"
   ]
  },
  {
   "cell_type": "code",
   "execution_count": 126,
   "id": "0d31533c-284e-42a1-bebf-831c31a9625e",
   "metadata": {},
   "outputs": [
    {
     "data": {
      "text/html": [
       "<div>\n",
       "<style scoped>\n",
       "    .dataframe tbody tr th:only-of-type {\n",
       "        vertical-align: middle;\n",
       "    }\n",
       "\n",
       "    .dataframe tbody tr th {\n",
       "        vertical-align: top;\n",
       "    }\n",
       "\n",
       "    .dataframe thead th {\n",
       "        text-align: right;\n",
       "    }\n",
       "</style>\n",
       "<table border=\"1\" class=\"dataframe\">\n",
       "  <thead>\n",
       "    <tr style=\"text-align: right;\">\n",
       "      <th></th>\n",
       "      <th>PassengerId</th>\n",
       "      <th>Survived</th>\n",
       "      <th>Pclass</th>\n",
       "      <th>Name</th>\n",
       "      <th>Sex</th>\n",
       "      <th>Age</th>\n",
       "      <th>SibSp</th>\n",
       "      <th>Parch</th>\n",
       "      <th>Ticket</th>\n",
       "      <th>Fare</th>\n",
       "      <th>Cabin</th>\n",
       "      <th>Embarked</th>\n",
       "    </tr>\n",
       "  </thead>\n",
       "  <tbody>\n",
       "    <tr>\n",
       "      <th>0</th>\n",
       "      <td>1310</td>\n",
       "      <td>1</td>\n",
       "      <td>1</td>\n",
       "      <td>Name1310, Miss. Surname1310</td>\n",
       "      <td>female</td>\n",
       "      <td>NaN</td>\n",
       "      <td>0</td>\n",
       "      <td>0</td>\n",
       "      <td>SOTON/O2 3101272</td>\n",
       "      <td>76.760165</td>\n",
       "      <td>NaN</td>\n",
       "      <td>C</td>\n",
       "    </tr>\n",
       "    <tr>\n",
       "      <th>1</th>\n",
       "      <td>1311</td>\n",
       "      <td>0</td>\n",
       "      <td>3</td>\n",
       "      <td>Name1311, Col. Surname1311</td>\n",
       "      <td>male</td>\n",
       "      <td>29.0</td>\n",
       "      <td>0</td>\n",
       "      <td>0</td>\n",
       "      <td>223596</td>\n",
       "      <td>10.193097</td>\n",
       "      <td>NaN</td>\n",
       "      <td>S</td>\n",
       "    </tr>\n",
       "    <tr>\n",
       "      <th>2</th>\n",
       "      <td>1312</td>\n",
       "      <td>0</td>\n",
       "      <td>3</td>\n",
       "      <td>Name1312, Mr. Surname1312</td>\n",
       "      <td>male</td>\n",
       "      <td>20.0</td>\n",
       "      <td>0</td>\n",
       "      <td>0</td>\n",
       "      <td>54636</td>\n",
       "      <td>12.029416</td>\n",
       "      <td>C83</td>\n",
       "      <td>C</td>\n",
       "    </tr>\n",
       "    <tr>\n",
       "      <th>3</th>\n",
       "      <td>1313</td>\n",
       "      <td>0</td>\n",
       "      <td>3</td>\n",
       "      <td>Name1313, Mr. Surname1313</td>\n",
       "      <td>male</td>\n",
       "      <td>27.0</td>\n",
       "      <td>0</td>\n",
       "      <td>0</td>\n",
       "      <td>PC 17760</td>\n",
       "      <td>13.429448</td>\n",
       "      <td>NaN</td>\n",
       "      <td>S</td>\n",
       "    </tr>\n",
       "    <tr>\n",
       "      <th>4</th>\n",
       "      <td>1314</td>\n",
       "      <td>0</td>\n",
       "      <td>3</td>\n",
       "      <td>Name1314, Mr. Surname1314</td>\n",
       "      <td>male</td>\n",
       "      <td>32.0</td>\n",
       "      <td>0</td>\n",
       "      <td>0</td>\n",
       "      <td>364512</td>\n",
       "      <td>4.840769</td>\n",
       "      <td>E33</td>\n",
       "      <td>C</td>\n",
       "    </tr>\n",
       "    <tr>\n",
       "      <th>...</th>\n",
       "      <td>...</td>\n",
       "      <td>...</td>\n",
       "      <td>...</td>\n",
       "      <td>...</td>\n",
       "      <td>...</td>\n",
       "      <td>...</td>\n",
       "      <td>...</td>\n",
       "      <td>...</td>\n",
       "      <td>...</td>\n",
       "      <td>...</td>\n",
       "      <td>...</td>\n",
       "      <td>...</td>\n",
       "    </tr>\n",
       "    <tr>\n",
       "      <th>999995</th>\n",
       "      <td>1001305</td>\n",
       "      <td>0</td>\n",
       "      <td>2</td>\n",
       "      <td>Name1001305, Mr. Surname1001305</td>\n",
       "      <td>male</td>\n",
       "      <td>27.0</td>\n",
       "      <td>0</td>\n",
       "      <td>0</td>\n",
       "      <td>244358</td>\n",
       "      <td>26.196512</td>\n",
       "      <td>NaN</td>\n",
       "      <td>S</td>\n",
       "    </tr>\n",
       "    <tr>\n",
       "      <th>999996</th>\n",
       "      <td>1001306</td>\n",
       "      <td>1</td>\n",
       "      <td>1</td>\n",
       "      <td>Name1001306, Miss. Surname1001306</td>\n",
       "      <td>female</td>\n",
       "      <td>33.0</td>\n",
       "      <td>0</td>\n",
       "      <td>0</td>\n",
       "      <td>349221</td>\n",
       "      <td>102.555248</td>\n",
       "      <td>NaN</td>\n",
       "      <td>S</td>\n",
       "    </tr>\n",
       "    <tr>\n",
       "      <th>999997</th>\n",
       "      <td>1001307</td>\n",
       "      <td>0</td>\n",
       "      <td>3</td>\n",
       "      <td>Name1001307, Mr. Surname1001307</td>\n",
       "      <td>male</td>\n",
       "      <td>NaN</td>\n",
       "      <td>1</td>\n",
       "      <td>0</td>\n",
       "      <td>PC 17601</td>\n",
       "      <td>8.274807</td>\n",
       "      <td>NaN</td>\n",
       "      <td>S</td>\n",
       "    </tr>\n",
       "    <tr>\n",
       "      <th>999998</th>\n",
       "      <td>1001308</td>\n",
       "      <td>0</td>\n",
       "      <td>2</td>\n",
       "      <td>Name1001308, Mr. Surname1001308</td>\n",
       "      <td>male</td>\n",
       "      <td>35.0</td>\n",
       "      <td>1</td>\n",
       "      <td>0</td>\n",
       "      <td>112050</td>\n",
       "      <td>0.000000</td>\n",
       "      <td>B102</td>\n",
       "      <td>S</td>\n",
       "    </tr>\n",
       "    <tr>\n",
       "      <th>999999</th>\n",
       "      <td>1001309</td>\n",
       "      <td>1</td>\n",
       "      <td>1</td>\n",
       "      <td>Name1001309, Miss. Surname1001309</td>\n",
       "      <td>female</td>\n",
       "      <td>37.0</td>\n",
       "      <td>1</td>\n",
       "      <td>0</td>\n",
       "      <td>28403</td>\n",
       "      <td>57.720316</td>\n",
       "      <td>NaN</td>\n",
       "      <td>S</td>\n",
       "    </tr>\n",
       "  </tbody>\n",
       "</table>\n",
       "<p>1000000 rows × 12 columns</p>\n",
       "</div>"
      ],
      "text/plain": [
       "        PassengerId  Survived  Pclass                               Name  \\\n",
       "0              1310         1       1        Name1310, Miss. Surname1310   \n",
       "1              1311         0       3         Name1311, Col. Surname1311   \n",
       "2              1312         0       3          Name1312, Mr. Surname1312   \n",
       "3              1313         0       3          Name1313, Mr. Surname1313   \n",
       "4              1314         0       3          Name1314, Mr. Surname1314   \n",
       "...             ...       ...     ...                                ...   \n",
       "999995      1001305         0       2    Name1001305, Mr. Surname1001305   \n",
       "999996      1001306         1       1  Name1001306, Miss. Surname1001306   \n",
       "999997      1001307         0       3    Name1001307, Mr. Surname1001307   \n",
       "999998      1001308         0       2    Name1001308, Mr. Surname1001308   \n",
       "999999      1001309         1       1  Name1001309, Miss. Surname1001309   \n",
       "\n",
       "           Sex   Age  SibSp  Parch            Ticket        Fare Cabin  \\\n",
       "0       female   NaN      0      0  SOTON/O2 3101272   76.760165   NaN   \n",
       "1         male  29.0      0      0            223596   10.193097   NaN   \n",
       "2         male  20.0      0      0             54636   12.029416   C83   \n",
       "3         male  27.0      0      0          PC 17760   13.429448   NaN   \n",
       "4         male  32.0      0      0            364512    4.840769   E33   \n",
       "...        ...   ...    ...    ...               ...         ...   ...   \n",
       "999995    male  27.0      0      0            244358   26.196512   NaN   \n",
       "999996  female  33.0      0      0            349221  102.555248   NaN   \n",
       "999997    male   NaN      1      0          PC 17601    8.274807   NaN   \n",
       "999998    male  35.0      1      0            112050    0.000000  B102   \n",
       "999999  female  37.0      1      0             28403   57.720316   NaN   \n",
       "\n",
       "       Embarked  \n",
       "0             C  \n",
       "1             S  \n",
       "2             C  \n",
       "3             S  \n",
       "4             C  \n",
       "...         ...  \n",
       "999995        S  \n",
       "999996        S  \n",
       "999997        S  \n",
       "999998        S  \n",
       "999999        S  \n",
       "\n",
       "[1000000 rows x 12 columns]"
      ]
     },
     "execution_count": 126,
     "metadata": {},
     "output_type": "execute_result"
    }
   ],
   "source": [
    "data=pd.read_csv(\"C:\\\\Users\\\\lavan\\\\OneDrive\\\\Desktop\\\\titanic_data.csv\")\n",
    "data"
   ]
  },
  {
   "cell_type": "code",
   "execution_count": 128,
   "id": "ae0655cd-e4df-43f4-8352-956417f111af",
   "metadata": {},
   "outputs": [
    {
     "name": "stdout",
     "output_type": "stream",
     "text": [
      "<class 'pandas.core.frame.DataFrame'>\n",
      "RangeIndex: 1000000 entries, 0 to 999999\n",
      "Data columns (total 12 columns):\n",
      " #   Column       Non-Null Count    Dtype  \n",
      "---  ------       --------------    -----  \n",
      " 0   PassengerId  1000000 non-null  int64  \n",
      " 1   Survived     1000000 non-null  int64  \n",
      " 2   Pclass       1000000 non-null  int64  \n",
      " 3   Name         1000000 non-null  object \n",
      " 4   Sex          1000000 non-null  object \n",
      " 5   Age          801400 non-null   float64\n",
      " 6   SibSp        1000000 non-null  int64  \n",
      " 7   Parch        1000000 non-null  int64  \n",
      " 8   Ticket       1000000 non-null  object \n",
      " 9   Fare         1000000 non-null  float64\n",
      " 10  Cabin        229805 non-null   object \n",
      " 11  Embarked     997760 non-null   object \n",
      "dtypes: float64(2), int64(5), object(5)\n",
      "memory usage: 91.6+ MB\n"
     ]
    }
   ],
   "source": [
    "data.info()"
   ]
  },
  {
   "cell_type": "code",
   "execution_count": 130,
   "id": "b0324b2e-ca8b-4fc6-96c1-59eedf016700",
   "metadata": {},
   "outputs": [
    {
     "data": {
      "text/html": [
       "<div>\n",
       "<style scoped>\n",
       "    .dataframe tbody tr th:only-of-type {\n",
       "        vertical-align: middle;\n",
       "    }\n",
       "\n",
       "    .dataframe tbody tr th {\n",
       "        vertical-align: top;\n",
       "    }\n",
       "\n",
       "    .dataframe thead th {\n",
       "        text-align: right;\n",
       "    }\n",
       "</style>\n",
       "<table border=\"1\" class=\"dataframe\">\n",
       "  <thead>\n",
       "    <tr style=\"text-align: right;\">\n",
       "      <th></th>\n",
       "      <th>PassengerId</th>\n",
       "      <th>Survived</th>\n",
       "      <th>Pclass</th>\n",
       "      <th>Age</th>\n",
       "      <th>SibSp</th>\n",
       "      <th>Parch</th>\n",
       "      <th>Fare</th>\n",
       "    </tr>\n",
       "  </thead>\n",
       "  <tbody>\n",
       "    <tr>\n",
       "      <th>count</th>\n",
       "      <td>1.000000e+06</td>\n",
       "      <td>1000000.000000</td>\n",
       "      <td>1000000.00000</td>\n",
       "      <td>801400.000000</td>\n",
       "      <td>1000000.000000</td>\n",
       "      <td>1000000.000000</td>\n",
       "      <td>1000000.000000</td>\n",
       "    </tr>\n",
       "    <tr>\n",
       "      <th>mean</th>\n",
       "      <td>5.013095e+05</td>\n",
       "      <td>0.381681</td>\n",
       "      <td>2.31125</td>\n",
       "      <td>29.280339</td>\n",
       "      <td>0.511101</td>\n",
       "      <td>0.360037</td>\n",
       "      <td>33.461097</td>\n",
       "    </tr>\n",
       "    <tr>\n",
       "      <th>std</th>\n",
       "      <td>2.886753e+05</td>\n",
       "      <td>0.485799</td>\n",
       "      <td>0.83577</td>\n",
       "      <td>12.744978</td>\n",
       "      <td>1.104846</td>\n",
       "      <td>0.767296</td>\n",
       "      <td>47.976641</td>\n",
       "    </tr>\n",
       "    <tr>\n",
       "      <th>min</th>\n",
       "      <td>1.310000e+03</td>\n",
       "      <td>0.000000</td>\n",
       "      <td>1.00000</td>\n",
       "      <td>0.000000</td>\n",
       "      <td>0.000000</td>\n",
       "      <td>0.000000</td>\n",
       "      <td>0.000000</td>\n",
       "    </tr>\n",
       "    <tr>\n",
       "      <th>25%</th>\n",
       "      <td>2.513098e+05</td>\n",
       "      <td>0.000000</td>\n",
       "      <td>2.00000</td>\n",
       "      <td>21.000000</td>\n",
       "      <td>0.000000</td>\n",
       "      <td>0.000000</td>\n",
       "      <td>8.568924</td>\n",
       "    </tr>\n",
       "    <tr>\n",
       "      <th>50%</th>\n",
       "      <td>5.013095e+05</td>\n",
       "      <td>0.000000</td>\n",
       "      <td>3.00000</td>\n",
       "      <td>29.000000</td>\n",
       "      <td>0.000000</td>\n",
       "      <td>0.000000</td>\n",
       "      <td>15.883647</td>\n",
       "    </tr>\n",
       "    <tr>\n",
       "      <th>75%</th>\n",
       "      <td>7.513092e+05</td>\n",
       "      <td>1.000000</td>\n",
       "      <td>3.00000</td>\n",
       "      <td>37.000000</td>\n",
       "      <td>1.000000</td>\n",
       "      <td>0.000000</td>\n",
       "      <td>35.561000</td>\n",
       "    </tr>\n",
       "    <tr>\n",
       "      <th>max</th>\n",
       "      <td>1.001309e+06</td>\n",
       "      <td>1.000000</td>\n",
       "      <td>3.00000</td>\n",
       "      <td>114.000000</td>\n",
       "      <td>8.000000</td>\n",
       "      <td>6.000000</td>\n",
       "      <td>640.883614</td>\n",
       "    </tr>\n",
       "  </tbody>\n",
       "</table>\n",
       "</div>"
      ],
      "text/plain": [
       "        PassengerId        Survived         Pclass            Age  \\\n",
       "count  1.000000e+06  1000000.000000  1000000.00000  801400.000000   \n",
       "mean   5.013095e+05        0.381681        2.31125      29.280339   \n",
       "std    2.886753e+05        0.485799        0.83577      12.744978   \n",
       "min    1.310000e+03        0.000000        1.00000       0.000000   \n",
       "25%    2.513098e+05        0.000000        2.00000      21.000000   \n",
       "50%    5.013095e+05        0.000000        3.00000      29.000000   \n",
       "75%    7.513092e+05        1.000000        3.00000      37.000000   \n",
       "max    1.001309e+06        1.000000        3.00000     114.000000   \n",
       "\n",
       "                SibSp           Parch            Fare  \n",
       "count  1000000.000000  1000000.000000  1000000.000000  \n",
       "mean         0.511101        0.360037       33.461097  \n",
       "std          1.104846        0.767296       47.976641  \n",
       "min          0.000000        0.000000        0.000000  \n",
       "25%          0.000000        0.000000        8.568924  \n",
       "50%          0.000000        0.000000       15.883647  \n",
       "75%          1.000000        0.000000       35.561000  \n",
       "max          8.000000        6.000000      640.883614  "
      ]
     },
     "execution_count": 130,
     "metadata": {},
     "output_type": "execute_result"
    }
   ],
   "source": [
    "data.describe()"
   ]
  },
  {
   "cell_type": "markdown",
   "id": "bd0d23c6-a151-4368-87ef-db7f45ab9cbb",
   "metadata": {},
   "source": [
    "## PassengerId, Name, Ticket and Cabin columns are of no use so we drop them"
   ]
  },
  {
   "cell_type": "code",
   "execution_count": 133,
   "id": "d454a691-7767-4d74-8aa7-98afda11ab4b",
   "metadata": {},
   "outputs": [
    {
     "data": {
      "text/html": [
       "<div>\n",
       "<style scoped>\n",
       "    .dataframe tbody tr th:only-of-type {\n",
       "        vertical-align: middle;\n",
       "    }\n",
       "\n",
       "    .dataframe tbody tr th {\n",
       "        vertical-align: top;\n",
       "    }\n",
       "\n",
       "    .dataframe thead th {\n",
       "        text-align: right;\n",
       "    }\n",
       "</style>\n",
       "<table border=\"1\" class=\"dataframe\">\n",
       "  <thead>\n",
       "    <tr style=\"text-align: right;\">\n",
       "      <th></th>\n",
       "      <th>Survived</th>\n",
       "      <th>Pclass</th>\n",
       "      <th>Sex</th>\n",
       "      <th>Age</th>\n",
       "      <th>SibSp</th>\n",
       "      <th>Parch</th>\n",
       "      <th>Fare</th>\n",
       "      <th>Embarked</th>\n",
       "    </tr>\n",
       "  </thead>\n",
       "  <tbody>\n",
       "    <tr>\n",
       "      <th>0</th>\n",
       "      <td>1</td>\n",
       "      <td>1</td>\n",
       "      <td>female</td>\n",
       "      <td>NaN</td>\n",
       "      <td>0</td>\n",
       "      <td>0</td>\n",
       "      <td>76.760165</td>\n",
       "      <td>C</td>\n",
       "    </tr>\n",
       "    <tr>\n",
       "      <th>1</th>\n",
       "      <td>0</td>\n",
       "      <td>3</td>\n",
       "      <td>male</td>\n",
       "      <td>29.0</td>\n",
       "      <td>0</td>\n",
       "      <td>0</td>\n",
       "      <td>10.193097</td>\n",
       "      <td>S</td>\n",
       "    </tr>\n",
       "    <tr>\n",
       "      <th>2</th>\n",
       "      <td>0</td>\n",
       "      <td>3</td>\n",
       "      <td>male</td>\n",
       "      <td>20.0</td>\n",
       "      <td>0</td>\n",
       "      <td>0</td>\n",
       "      <td>12.029416</td>\n",
       "      <td>C</td>\n",
       "    </tr>\n",
       "    <tr>\n",
       "      <th>3</th>\n",
       "      <td>0</td>\n",
       "      <td>3</td>\n",
       "      <td>male</td>\n",
       "      <td>27.0</td>\n",
       "      <td>0</td>\n",
       "      <td>0</td>\n",
       "      <td>13.429448</td>\n",
       "      <td>S</td>\n",
       "    </tr>\n",
       "    <tr>\n",
       "      <th>4</th>\n",
       "      <td>0</td>\n",
       "      <td>3</td>\n",
       "      <td>male</td>\n",
       "      <td>32.0</td>\n",
       "      <td>0</td>\n",
       "      <td>0</td>\n",
       "      <td>4.840769</td>\n",
       "      <td>C</td>\n",
       "    </tr>\n",
       "    <tr>\n",
       "      <th>...</th>\n",
       "      <td>...</td>\n",
       "      <td>...</td>\n",
       "      <td>...</td>\n",
       "      <td>...</td>\n",
       "      <td>...</td>\n",
       "      <td>...</td>\n",
       "      <td>...</td>\n",
       "      <td>...</td>\n",
       "    </tr>\n",
       "    <tr>\n",
       "      <th>999995</th>\n",
       "      <td>0</td>\n",
       "      <td>2</td>\n",
       "      <td>male</td>\n",
       "      <td>27.0</td>\n",
       "      <td>0</td>\n",
       "      <td>0</td>\n",
       "      <td>26.196512</td>\n",
       "      <td>S</td>\n",
       "    </tr>\n",
       "    <tr>\n",
       "      <th>999996</th>\n",
       "      <td>1</td>\n",
       "      <td>1</td>\n",
       "      <td>female</td>\n",
       "      <td>33.0</td>\n",
       "      <td>0</td>\n",
       "      <td>0</td>\n",
       "      <td>102.555248</td>\n",
       "      <td>S</td>\n",
       "    </tr>\n",
       "    <tr>\n",
       "      <th>999997</th>\n",
       "      <td>0</td>\n",
       "      <td>3</td>\n",
       "      <td>male</td>\n",
       "      <td>NaN</td>\n",
       "      <td>1</td>\n",
       "      <td>0</td>\n",
       "      <td>8.274807</td>\n",
       "      <td>S</td>\n",
       "    </tr>\n",
       "    <tr>\n",
       "      <th>999998</th>\n",
       "      <td>0</td>\n",
       "      <td>2</td>\n",
       "      <td>male</td>\n",
       "      <td>35.0</td>\n",
       "      <td>1</td>\n",
       "      <td>0</td>\n",
       "      <td>0.000000</td>\n",
       "      <td>S</td>\n",
       "    </tr>\n",
       "    <tr>\n",
       "      <th>999999</th>\n",
       "      <td>1</td>\n",
       "      <td>1</td>\n",
       "      <td>female</td>\n",
       "      <td>37.0</td>\n",
       "      <td>1</td>\n",
       "      <td>0</td>\n",
       "      <td>57.720316</td>\n",
       "      <td>S</td>\n",
       "    </tr>\n",
       "  </tbody>\n",
       "</table>\n",
       "<p>1000000 rows × 8 columns</p>\n",
       "</div>"
      ],
      "text/plain": [
       "        Survived  Pclass     Sex   Age  SibSp  Parch        Fare Embarked\n",
       "0              1       1  female   NaN      0      0   76.760165        C\n",
       "1              0       3    male  29.0      0      0   10.193097        S\n",
       "2              0       3    male  20.0      0      0   12.029416        C\n",
       "3              0       3    male  27.0      0      0   13.429448        S\n",
       "4              0       3    male  32.0      0      0    4.840769        C\n",
       "...          ...     ...     ...   ...    ...    ...         ...      ...\n",
       "999995         0       2    male  27.0      0      0   26.196512        S\n",
       "999996         1       1  female  33.0      0      0  102.555248        S\n",
       "999997         0       3    male   NaN      1      0    8.274807        S\n",
       "999998         0       2    male  35.0      1      0    0.000000        S\n",
       "999999         1       1  female  37.0      1      0   57.720316        S\n",
       "\n",
       "[1000000 rows x 8 columns]"
      ]
     },
     "execution_count": 133,
     "metadata": {},
     "output_type": "execute_result"
    }
   ],
   "source": [
    "data=data.drop(columns=['PassengerId','Name','Ticket','Cabin'])\n",
    "data"
   ]
  },
  {
   "cell_type": "code",
   "execution_count": 135,
   "id": "3a679efc-28dc-4a2a-a7c4-fe328122a875",
   "metadata": {
    "scrolled": true
   },
   "outputs": [
    {
     "data": {
      "text/html": [
       "<div>\n",
       "<style scoped>\n",
       "    .dataframe tbody tr th:only-of-type {\n",
       "        vertical-align: middle;\n",
       "    }\n",
       "\n",
       "    .dataframe tbody tr th {\n",
       "        vertical-align: top;\n",
       "    }\n",
       "\n",
       "    .dataframe thead th {\n",
       "        text-align: right;\n",
       "    }\n",
       "</style>\n",
       "<table border=\"1\" class=\"dataframe\">\n",
       "  <thead>\n",
       "    <tr style=\"text-align: right;\">\n",
       "      <th></th>\n",
       "      <th>Survived</th>\n",
       "      <th>Pclass</th>\n",
       "      <th>Sex</th>\n",
       "      <th>Age</th>\n",
       "      <th>SibSp</th>\n",
       "      <th>Parch</th>\n",
       "      <th>Fare</th>\n",
       "      <th>Embarked</th>\n",
       "    </tr>\n",
       "  </thead>\n",
       "  <tbody>\n",
       "    <tr>\n",
       "      <th>0</th>\n",
       "      <td>1</td>\n",
       "      <td>1</td>\n",
       "      <td>female</td>\n",
       "      <td>NaN</td>\n",
       "      <td>0</td>\n",
       "      <td>0</td>\n",
       "      <td>76.760165</td>\n",
       "      <td>C</td>\n",
       "    </tr>\n",
       "    <tr>\n",
       "      <th>1</th>\n",
       "      <td>0</td>\n",
       "      <td>3</td>\n",
       "      <td>male</td>\n",
       "      <td>29.0</td>\n",
       "      <td>0</td>\n",
       "      <td>0</td>\n",
       "      <td>10.193097</td>\n",
       "      <td>S</td>\n",
       "    </tr>\n",
       "    <tr>\n",
       "      <th>2</th>\n",
       "      <td>0</td>\n",
       "      <td>3</td>\n",
       "      <td>male</td>\n",
       "      <td>20.0</td>\n",
       "      <td>0</td>\n",
       "      <td>0</td>\n",
       "      <td>12.029416</td>\n",
       "      <td>C</td>\n",
       "    </tr>\n",
       "    <tr>\n",
       "      <th>3</th>\n",
       "      <td>0</td>\n",
       "      <td>3</td>\n",
       "      <td>male</td>\n",
       "      <td>27.0</td>\n",
       "      <td>0</td>\n",
       "      <td>0</td>\n",
       "      <td>13.429448</td>\n",
       "      <td>S</td>\n",
       "    </tr>\n",
       "    <tr>\n",
       "      <th>4</th>\n",
       "      <td>0</td>\n",
       "      <td>3</td>\n",
       "      <td>male</td>\n",
       "      <td>32.0</td>\n",
       "      <td>0</td>\n",
       "      <td>0</td>\n",
       "      <td>4.840769</td>\n",
       "      <td>C</td>\n",
       "    </tr>\n",
       "  </tbody>\n",
       "</table>\n",
       "</div>"
      ],
      "text/plain": [
       "   Survived  Pclass     Sex   Age  SibSp  Parch       Fare Embarked\n",
       "0         1       1  female   NaN      0      0  76.760165        C\n",
       "1         0       3    male  29.0      0      0  10.193097        S\n",
       "2         0       3    male  20.0      0      0  12.029416        C\n",
       "3         0       3    male  27.0      0      0  13.429448        S\n",
       "4         0       3    male  32.0      0      0   4.840769        C"
      ]
     },
     "execution_count": 135,
     "metadata": {},
     "output_type": "execute_result"
    }
   ],
   "source": [
    "data.head()"
   ]
  },
  {
   "cell_type": "markdown",
   "id": "512c3db2-fcec-47be-b06d-f1d4fbfb93fa",
   "metadata": {},
   "source": [
    "## Checking for missing values"
   ]
  },
  {
   "cell_type": "code",
   "execution_count": 138,
   "id": "083f55d5-1808-4091-a3fe-d813603f34a3",
   "metadata": {},
   "outputs": [
    {
     "data": {
      "text/plain": [
       "Survived         0\n",
       "Pclass           0\n",
       "Sex              0\n",
       "Age         198600\n",
       "SibSp            0\n",
       "Parch            0\n",
       "Fare             0\n",
       "Embarked      2240\n",
       "dtype: int64"
      ]
     },
     "execution_count": 138,
     "metadata": {},
     "output_type": "execute_result"
    }
   ],
   "source": [
    "data.isnull().sum()"
   ]
  },
  {
   "cell_type": "markdown",
   "id": "be090a33-2f83-4e81-b99f-f2ca0f669428",
   "metadata": {},
   "source": [
    "## Clearly, Age and Embarked has missing values"
   ]
  },
  {
   "cell_type": "markdown",
   "id": "b777a044-a109-45ae-b8ce-f683e30a88ed",
   "metadata": {},
   "source": [
    "## Imputing missing values"
   ]
  },
  {
   "cell_type": "code",
   "execution_count": 142,
   "id": "1eb1e6f4-7f67-4fb6-bc25-93dd18439ebd",
   "metadata": {},
   "outputs": [],
   "source": [
    "# Age is numerical value so it must me filled with mean/median\n",
    "data['Age']=data['Age'].fillna(data['Age'].median())"
   ]
  },
  {
   "cell_type": "code",
   "execution_count": 144,
   "id": "13d17aae-c690-4216-b486-3c00dcf5c0f3",
   "metadata": {},
   "outputs": [],
   "source": [
    "# Embarked is categorical value so it must be filled with mode\n",
    "data['Embarked']=data['Embarked'].fillna(data['Embarked'].mode()[0])"
   ]
  },
  {
   "cell_type": "code",
   "execution_count": 146,
   "id": "3a706f3d-5d42-4429-9f03-f1a08afa1b9a",
   "metadata": {},
   "outputs": [
    {
     "name": "stdout",
     "output_type": "stream",
     "text": [
      "<class 'pandas.core.frame.DataFrame'>\n",
      "RangeIndex: 1000000 entries, 0 to 999999\n",
      "Data columns (total 8 columns):\n",
      " #   Column    Non-Null Count    Dtype  \n",
      "---  ------    --------------    -----  \n",
      " 0   Survived  1000000 non-null  int64  \n",
      " 1   Pclass    1000000 non-null  int64  \n",
      " 2   Sex       1000000 non-null  object \n",
      " 3   Age       1000000 non-null  float64\n",
      " 4   SibSp     1000000 non-null  int64  \n",
      " 5   Parch     1000000 non-null  int64  \n",
      " 6   Fare      1000000 non-null  float64\n",
      " 7   Embarked  1000000 non-null  object \n",
      "dtypes: float64(2), int64(4), object(2)\n",
      "memory usage: 61.0+ MB\n"
     ]
    }
   ],
   "source": [
    "data.info()"
   ]
  },
  {
   "cell_type": "code",
   "execution_count": 148,
   "id": "98fedf05-5373-4c25-9a36-100159206ae2",
   "metadata": {},
   "outputs": [
    {
     "data": {
      "text/plain": [
       "0"
      ]
     },
     "execution_count": 148,
     "metadata": {},
     "output_type": "execute_result"
    }
   ],
   "source": [
    "data.isna().sum().sum()"
   ]
  },
  {
   "cell_type": "markdown",
   "id": "e5ed178b-af61-44b0-9754-247bac07e27c",
   "metadata": {},
   "source": [
    "## As there are no null values, now it's time for **Data Visualization**"
   ]
  },
  {
   "cell_type": "markdown",
   "id": "dba4d4ef-a9a7-444f-ab46-1cd5f6a97057",
   "metadata": {},
   "source": [
    "## Pie Chart for finding male and female"
   ]
  },
  {
   "cell_type": "code",
   "execution_count": 152,
   "id": "1ceefb7b-b5fe-447d-8a35-988c41cd8dd7",
   "metadata": {},
   "outputs": [
    {
     "data": {
      "text/plain": [
       "([<matplotlib.patches.Wedge at 0x228c3e80e60>,\n",
       "  <matplotlib.patches.Wedge at 0x228c3e677a0>],\n",
       " [Text(-0.4958145197954591, 0.9819205476819387, 'Male'),\n",
       "  Text(0.495814519795459, -0.9819205476819388, 'Female')],\n",
       " [Text(-0.2704442835247958, 0.5355930260083301, '64.88%'),\n",
       "  Text(0.27044428352479577, -0.5355930260083301, '35.12%')])"
      ]
     },
     "execution_count": 152,
     "metadata": {},
     "output_type": "execute_result"
    },
    {
     "data": {
      "image/png": "[encoded data removed]",
      "text/plain": [
       "<Figure size 640x480 with 1 Axes>"
      ]
     },
     "metadata": {},
     "output_type": "display_data"
    }
   ],
   "source": [
    "male=data['Sex'].value_counts()['male']\n",
    "female=data['Sex'].value_counts()['female']\n",
    "values=[male,female]\n",
    "plt.pie(values,labels=['Male','Female'],autopct='%1.2f%%')"
   ]
  },
  {
   "cell_type": "markdown",
   "id": "34a63e4c-c6bc-47fb-bd3c-e9b00cf21161",
   "metadata": {},
   "source": [
    "## About 65% are *Male* and 35% are *Female*"
   ]
  },
  {
   "cell_type": "markdown",
   "id": "7d605a25-ab6a-44b8-9996-9af306026386",
   "metadata": {},
   "source": [
    "## Bar Plot for Age"
   ]
  },
  {
   "cell_type": "code",
   "execution_count": 156,
   "id": "7f849796-b919-49a7-a040-1206cd23c6b5",
   "metadata": {},
   "outputs": [
    {
     "data": {
      "text/plain": [
       "<Axes: xlabel='Sex', ylabel='Age'>"
      ]
     },
     "execution_count": 156,
     "metadata": {},
     "output_type": "execute_result"
    },
    {
     "data": {
      "image/png": "[encoded data removed]",
      "text/plain": [
       "<Figure size 600x600 with 1 Axes>"
      ]
     },
     "metadata": {},
     "output_type": "display_data"
    }
   ],
   "source": [
    "gb=data.groupby('Sex')['Age'].mean().reset_index()\n",
    "plt.figure(figsize=(6,6))\n",
    "sns.barplot(x=gb['Sex'], y=gb['Age'],color='orange')"
   ]
  },
  {
   "cell_type": "markdown",
   "id": "0cf74087-c4df-4870-8e20-c02fddd05ed0",
   "metadata": {},
   "source": [
    "## Male's age is greater than Female's age"
   ]
  },
  {
   "cell_type": "markdown",
   "id": "5a7a3cb2-aa2e-4c6d-bac4-80f751e37fd3",
   "metadata": {},
   "source": [
    "## Pie Chart for survived people"
   ]
  },
  {
   "cell_type": "code",
   "execution_count": 160,
   "id": "13c792f4-dabe-4b55-89d5-4249307176df",
   "metadata": {},
   "outputs": [
    {
     "data": {
      "text/plain": [
       "([<matplotlib.patches.Wedge at 0x228c3f01f70>,\n",
       "  <matplotlib.patches.Wedge at 0x228c3ecbe30>],\n",
       " [Text(-0.6002768080191255, 0.9217742422927482, 'female'),\n",
       "  Text(0.6002768943218557, -0.9217741860907733, 'male')],\n",
       " [Text(-0.32742371346497756, 0.502785950341499, '68.37%'),\n",
       "  Text(0.32742376053919403, -0.5027859196858763, '31.63%')])"
      ]
     },
     "execution_count": 160,
     "metadata": {},
     "output_type": "execute_result"
    },
    {
     "data": {
      "image/png": "[encoded data removed]",
      "text/plain": [
       "<Figure size 300x400 with 1 Axes>"
      ]
     },
     "metadata": {},
     "output_type": "display_data"
    }
   ],
   "source": [
    "gb=data.groupby('Sex')['Survived'].sum().reset_index()\n",
    "plt.figure(figsize=(3,4))\n",
    "values=gb['Survived']\n",
    "labels=gb['Sex']\n",
    "plt.pie(values,labels=labels,autopct='%1.2f%%')"
   ]
  },
  {
   "cell_type": "markdown",
   "id": "21f8e210-82c8-4c25-91a2-77b19f54baad",
   "metadata": {},
   "source": [
    "## Females survived more"
   ]
  },
  {
   "cell_type": "markdown",
   "id": "e3c18135-69aa-4775-8af6-bb79e9816957",
   "metadata": {},
   "source": [
    "## Bar Plot for Passenger Class and Ticket Fare"
   ]
  },
  {
   "cell_type": "code",
   "execution_count": 164,
   "id": "60deafa5-fa8e-432c-b2ad-bb81c0307d49",
   "metadata": {},
   "outputs": [
    {
     "data": {
      "text/plain": [
       "<Axes: xlabel='Pclass', ylabel='Fare'>"
      ]
     },
     "execution_count": 164,
     "metadata": {},
     "output_type": "execute_result"
    },
    {
     "data": {
      "image/png": "[encoded data removed]",
      "text/plain": [
       "<Figure size 600x600 with 1 Axes>"
      ]
     },
     "metadata": {},
     "output_type": "display_data"
    }
   ],
   "source": [
    "gb=data.groupby('Pclass')['Fare'].mean().reset_index()\n",
    "plt.figure(figsize=(6,6))\n",
    "sns.barplot(y=gb['Fare'],x=gb['Pclass'],color='orange')"
   ]
  },
  {
   "cell_type": "markdown",
   "id": "9292bbbc-2321-45c8-8bda-1a51b3c4e6ff",
   "metadata": {},
   "source": [
    "## FIrst Class is extremely expemsive"
   ]
  },
  {
   "cell_type": "markdown",
   "id": "7580eac6-a377-41a8-8c9a-19a3e784eca0",
   "metadata": {},
   "source": [
    "## Histogram for Embarked"
   ]
  },
  {
   "cell_type": "code",
   "execution_count": 168,
   "id": "b95bf61b-6939-4e7c-ba30-5a53914f9129",
   "metadata": {},
   "outputs": [
    {
     "data": {
      "image/png": "[encoded data removed]",
      "text/plain": [
       "<Figure size 600x600 with 1 Axes>"
      ]
     },
     "metadata": {},
     "output_type": "display_data"
    }
   ],
   "source": [
    "plt.figure(figsize=(6,6))\n",
    "sns.histplot(data['Embarked'])\n",
    "plt.show()"
   ]
  },
  {
   "cell_type": "code",
   "execution_count": 169,
   "id": "9de9173e-ffaf-4068-81f5-5e2cd61e1972",
   "metadata": {},
   "outputs": [
    {
     "data": {
      "image/png": "[encoded data removed]",
      "text/plain": [
       "<Figure size 600x600 with 1 Axes>"
      ]
     },
     "metadata": {},
     "output_type": "display_data"
    }
   ],
   "source": [
    "plt.figure(figsize=(6,6))\n",
    "sns.violinplot(data=data,y='Embarked',x='Fare',split=True)\n",
    "plt.show()"
   ]
  },
  {
   "cell_type": "code",
   "execution_count": 170,
   "id": "d93dd3a5-a2d0-4676-9f6e-d5400522c445",
   "metadata": {},
   "outputs": [
    {
     "data": {
      "text/html": [
       "<div>\n",
       "<style scoped>\n",
       "    .dataframe tbody tr th:only-of-type {\n",
       "        vertical-align: middle;\n",
       "    }\n",
       "\n",
       "    .dataframe tbody tr th {\n",
       "        vertical-align: top;\n",
       "    }\n",
       "\n",
       "    .dataframe thead th {\n",
       "        text-align: right;\n",
       "    }\n",
       "</style>\n",
       "<table border=\"1\" class=\"dataframe\">\n",
       "  <thead>\n",
       "    <tr style=\"text-align: right;\">\n",
       "      <th></th>\n",
       "      <th>Survived</th>\n",
       "      <th>Pclass</th>\n",
       "      <th>Sex</th>\n",
       "      <th>Age</th>\n",
       "      <th>SibSp</th>\n",
       "      <th>Parch</th>\n",
       "      <th>Fare</th>\n",
       "      <th>Embarked</th>\n",
       "    </tr>\n",
       "  </thead>\n",
       "  <tbody>\n",
       "    <tr>\n",
       "      <th>0</th>\n",
       "      <td>1</td>\n",
       "      <td>1</td>\n",
       "      <td>female</td>\n",
       "      <td>29.0</td>\n",
       "      <td>0</td>\n",
       "      <td>0</td>\n",
       "      <td>76.760165</td>\n",
       "      <td>C</td>\n",
       "    </tr>\n",
       "    <tr>\n",
       "      <th>1</th>\n",
       "      <td>0</td>\n",
       "      <td>3</td>\n",
       "      <td>male</td>\n",
       "      <td>29.0</td>\n",
       "      <td>0</td>\n",
       "      <td>0</td>\n",
       "      <td>10.193097</td>\n",
       "      <td>S</td>\n",
       "    </tr>\n",
       "    <tr>\n",
       "      <th>2</th>\n",
       "      <td>0</td>\n",
       "      <td>3</td>\n",
       "      <td>male</td>\n",
       "      <td>20.0</td>\n",
       "      <td>0</td>\n",
       "      <td>0</td>\n",
       "      <td>12.029416</td>\n",
       "      <td>C</td>\n",
       "    </tr>\n",
       "    <tr>\n",
       "      <th>3</th>\n",
       "      <td>0</td>\n",
       "      <td>3</td>\n",
       "      <td>male</td>\n",
       "      <td>27.0</td>\n",
       "      <td>0</td>\n",
       "      <td>0</td>\n",
       "      <td>13.429448</td>\n",
       "      <td>S</td>\n",
       "    </tr>\n",
       "    <tr>\n",
       "      <th>4</th>\n",
       "      <td>0</td>\n",
       "      <td>3</td>\n",
       "      <td>male</td>\n",
       "      <td>32.0</td>\n",
       "      <td>0</td>\n",
       "      <td>0</td>\n",
       "      <td>4.840769</td>\n",
       "      <td>C</td>\n",
       "    </tr>\n",
       "  </tbody>\n",
       "</table>\n",
       "</div>"
      ],
      "text/plain": [
       "   Survived  Pclass     Sex   Age  SibSp  Parch       Fare Embarked\n",
       "0         1       1  female  29.0      0      0  76.760165        C\n",
       "1         0       3    male  29.0      0      0  10.193097        S\n",
       "2         0       3    male  20.0      0      0  12.029416        C\n",
       "3         0       3    male  27.0      0      0  13.429448        S\n",
       "4         0       3    male  32.0      0      0   4.840769        C"
      ]
     },
     "execution_count": 170,
     "metadata": {},
     "output_type": "execute_result"
    }
   ],
   "source": [
    "data.head()"
   ]
  },
  {
   "cell_type": "markdown",
   "id": "7553a4b7-2a0c-48ac-bc0b-fc3cb48e3a34",
   "metadata": {},
   "source": [
    "## Here, C = Cherbourg, Q = Queenstown, S = Southampton"
   ]
  },
  {
   "cell_type": "markdown",
   "id": "1ef80fe9-8ea8-4bc8-bf09-308d31ff6d8e",
   "metadata": {},
   "source": [
    "## Distance to final embarked: Cherbourg > Southampton > Queenstown  "
   ]
  },
  {
   "cell_type": "code",
   "execution_count": 174,
   "id": "1a587429-1ed6-4d6f-9fd9-f69f951d8a0d",
   "metadata": {},
   "outputs": [
    {
     "name": "stdout",
     "output_type": "stream",
     "text": [
      "<class 'pandas.core.frame.DataFrame'>\n",
      "RangeIndex: 1000000 entries, 0 to 999999\n",
      "Data columns (total 8 columns):\n",
      " #   Column    Non-Null Count    Dtype  \n",
      "---  ------    --------------    -----  \n",
      " 0   Survived  1000000 non-null  int64  \n",
      " 1   Pclass    1000000 non-null  int64  \n",
      " 2   Sex       1000000 non-null  object \n",
      " 3   Age       1000000 non-null  float64\n",
      " 4   SibSp     1000000 non-null  int64  \n",
      " 5   Parch     1000000 non-null  int64  \n",
      " 6   Fare      1000000 non-null  float64\n",
      " 7   Embarked  1000000 non-null  object \n",
      "dtypes: float64(2), int64(4), object(2)\n",
      "memory usage: 61.0+ MB\n"
     ]
    }
   ],
   "source": [
    "data.info()"
   ]
  },
  {
   "cell_type": "markdown",
   "id": "2b5a33e0-eae7-4d16-a5b3-f09eed940e8d",
   "metadata": {},
   "source": [
    "## Object needs to be converted\n",
    "#### Data Preprocessing"
   ]
  },
  {
   "cell_type": "code",
   "execution_count": 176,
   "id": "f6eb0638-695c-420b-b27e-eb49ca96fb98",
   "metadata": {},
   "outputs": [],
   "source": [
    "data=pd.get_dummies(data, columns=['Sex','Embarked'], drop_first=True)"
   ]
  },
  {
   "cell_type": "code",
   "execution_count": 181,
   "id": "728a38bc-5041-4548-92c3-bc0d05783464",
   "metadata": {},
   "outputs": [
    {
     "data": {
      "text/html": [
       "<div>\n",
       "<style scoped>\n",
       "    .dataframe tbody tr th:only-of-type {\n",
       "        vertical-align: middle;\n",
       "    }\n",
       "\n",
       "    .dataframe tbody tr th {\n",
       "        vertical-align: top;\n",
       "    }\n",
       "\n",
       "    .dataframe thead th {\n",
       "        text-align: right;\n",
       "    }\n",
       "</style>\n",
       "<table border=\"1\" class=\"dataframe\">\n",
       "  <thead>\n",
       "    <tr style=\"text-align: right;\">\n",
       "      <th></th>\n",
       "      <th>Survived</th>\n",
       "      <th>Pclass</th>\n",
       "      <th>Age</th>\n",
       "      <th>SibSp</th>\n",
       "      <th>Parch</th>\n",
       "      <th>Fare</th>\n",
       "      <th>Sex_male</th>\n",
       "      <th>Embarked_Q</th>\n",
       "      <th>Embarked_S</th>\n",
       "    </tr>\n",
       "  </thead>\n",
       "  <tbody>\n",
       "    <tr>\n",
       "      <th>0</th>\n",
       "      <td>1</td>\n",
       "      <td>1</td>\n",
       "      <td>29.0</td>\n",
       "      <td>0</td>\n",
       "      <td>0</td>\n",
       "      <td>76.760165</td>\n",
       "      <td>False</td>\n",
       "      <td>False</td>\n",
       "      <td>False</td>\n",
       "    </tr>\n",
       "    <tr>\n",
       "      <th>1</th>\n",
       "      <td>0</td>\n",
       "      <td>3</td>\n",
       "      <td>29.0</td>\n",
       "      <td>0</td>\n",
       "      <td>0</td>\n",
       "      <td>10.193097</td>\n",
       "      <td>True</td>\n",
       "      <td>False</td>\n",
       "      <td>True</td>\n",
       "    </tr>\n",
       "    <tr>\n",
       "      <th>2</th>\n",
       "      <td>0</td>\n",
       "      <td>3</td>\n",
       "      <td>20.0</td>\n",
       "      <td>0</td>\n",
       "      <td>0</td>\n",
       "      <td>12.029416</td>\n",
       "      <td>True</td>\n",
       "      <td>False</td>\n",
       "      <td>False</td>\n",
       "    </tr>\n",
       "    <tr>\n",
       "      <th>3</th>\n",
       "      <td>0</td>\n",
       "      <td>3</td>\n",
       "      <td>27.0</td>\n",
       "      <td>0</td>\n",
       "      <td>0</td>\n",
       "      <td>13.429448</td>\n",
       "      <td>True</td>\n",
       "      <td>False</td>\n",
       "      <td>True</td>\n",
       "    </tr>\n",
       "    <tr>\n",
       "      <th>4</th>\n",
       "      <td>0</td>\n",
       "      <td>3</td>\n",
       "      <td>32.0</td>\n",
       "      <td>0</td>\n",
       "      <td>0</td>\n",
       "      <td>4.840769</td>\n",
       "      <td>True</td>\n",
       "      <td>False</td>\n",
       "      <td>False</td>\n",
       "    </tr>\n",
       "  </tbody>\n",
       "</table>\n",
       "</div>"
      ],
      "text/plain": [
       "   Survived  Pclass   Age  SibSp  Parch       Fare  Sex_male  Embarked_Q  \\\n",
       "0         1       1  29.0      0      0  76.760165     False       False   \n",
       "1         0       3  29.0      0      0  10.193097      True       False   \n",
       "2         0       3  20.0      0      0  12.029416      True       False   \n",
       "3         0       3  27.0      0      0  13.429448      True       False   \n",
       "4         0       3  32.0      0      0   4.840769      True       False   \n",
       "\n",
       "   Embarked_S  \n",
       "0       False  \n",
       "1        True  \n",
       "2       False  \n",
       "3        True  \n",
       "4       False  "
      ]
     },
     "execution_count": 181,
     "metadata": {},
     "output_type": "execute_result"
    }
   ],
   "source": [
    "data.head()"
   ]
  },
  {
   "cell_type": "markdown",
   "id": "fc2229f8-ad58-488e-8df8-a640e2c8816f",
   "metadata": {},
   "source": [
    "## Prevent model from any confusion\n",
    "#### Normalizing data"
   ]
  },
  {
   "cell_type": "code",
   "execution_count": 187,
   "id": "ad7028df-8a3d-43f3-ae29-f5b5c4dbf9ef",
   "metadata": {},
   "outputs": [],
   "source": [
    "from sklearn.preprocessing import StandardScaler\n",
    "scaler=StandardScaler()"
   ]
  },
  {
   "cell_type": "code",
   "execution_count": 193,
   "id": "5e6517ea-e6d1-48dd-adf8-56f59877596c",
   "metadata": {},
   "outputs": [],
   "source": [
    "target_column='Survived' # Survived is our target \n",
    "features=data.drop(columns=[target_column]) # Feature Column\n",
    "target=data[target_column] # Target Column\n",
    "features_scaled=scaler.fit_transform(features) # Scaled Features\n",
    "features_scaled=pd.DataFrame(features_scaled,columns=features.columns)\n",
    "scaled=pd.concat([features_scaled,target.reset_index(drop=True)],axis=1) # Concatenation of scaled features\n",
    "scaled_columns=list(features.columns)+[target] # Scaled columns"
   ]
  },
  {
   "cell_type": "code",
   "execution_count": 195,
   "id": "192d59cc-6172-489e-ad10-98bfe81f99fe",
   "metadata": {},
   "outputs": [
    {
     "data": {
      "text/html": [
       "<div>\n",
       "<style scoped>\n",
       "    .dataframe tbody tr th:only-of-type {\n",
       "        vertical-align: middle;\n",
       "    }\n",
       "\n",
       "    .dataframe tbody tr th {\n",
       "        vertical-align: top;\n",
       "    }\n",
       "\n",
       "    .dataframe thead th {\n",
       "        text-align: right;\n",
       "    }\n",
       "</style>\n",
       "<table border=\"1\" class=\"dataframe\">\n",
       "  <thead>\n",
       "    <tr style=\"text-align: right;\">\n",
       "      <th></th>\n",
       "      <th>Pclass</th>\n",
       "      <th>Age</th>\n",
       "      <th>SibSp</th>\n",
       "      <th>Parch</th>\n",
       "      <th>Fare</th>\n",
       "      <th>Sex_male</th>\n",
       "      <th>Embarked_Q</th>\n",
       "      <th>Embarked_S</th>\n",
       "      <th>Survived</th>\n",
       "    </tr>\n",
       "  </thead>\n",
       "  <tbody>\n",
       "    <tr>\n",
       "      <th>0</th>\n",
       "      <td>-1.568913</td>\n",
       "      <td>-0.019690</td>\n",
       "      <td>-0.4626</td>\n",
       "      <td>-0.469229</td>\n",
       "      <td>0.902504</td>\n",
       "      <td>-1.359303</td>\n",
       "      <td>-0.297771</td>\n",
       "      <td>-1.651449</td>\n",
       "      <td>1</td>\n",
       "    </tr>\n",
       "    <tr>\n",
       "      <th>1</th>\n",
       "      <td>0.824090</td>\n",
       "      <td>-0.019690</td>\n",
       "      <td>-0.4626</td>\n",
       "      <td>-0.469229</td>\n",
       "      <td>-0.484986</td>\n",
       "      <td>0.735671</td>\n",
       "      <td>-0.297771</td>\n",
       "      <td>0.605529</td>\n",
       "      <td>0</td>\n",
       "    </tr>\n",
       "    <tr>\n",
       "      <th>2</th>\n",
       "      <td>0.824090</td>\n",
       "      <td>-0.808474</td>\n",
       "      <td>-0.4626</td>\n",
       "      <td>-0.469229</td>\n",
       "      <td>-0.446711</td>\n",
       "      <td>0.735671</td>\n",
       "      <td>-0.297771</td>\n",
       "      <td>-1.651449</td>\n",
       "      <td>0</td>\n",
       "    </tr>\n",
       "    <tr>\n",
       "      <th>3</th>\n",
       "      <td>0.824090</td>\n",
       "      <td>-0.194976</td>\n",
       "      <td>-0.4626</td>\n",
       "      <td>-0.469229</td>\n",
       "      <td>-0.417529</td>\n",
       "      <td>0.735671</td>\n",
       "      <td>-0.297771</td>\n",
       "      <td>0.605529</td>\n",
       "      <td>0</td>\n",
       "    </tr>\n",
       "    <tr>\n",
       "      <th>4</th>\n",
       "      <td>0.824090</td>\n",
       "      <td>0.243238</td>\n",
       "      <td>-0.4626</td>\n",
       "      <td>-0.469229</td>\n",
       "      <td>-0.596547</td>\n",
       "      <td>0.735671</td>\n",
       "      <td>-0.297771</td>\n",
       "      <td>-1.651449</td>\n",
       "      <td>0</td>\n",
       "    </tr>\n",
       "  </tbody>\n",
       "</table>\n",
       "</div>"
      ],
      "text/plain": [
       "     Pclass       Age   SibSp     Parch      Fare  Sex_male  Embarked_Q  \\\n",
       "0 -1.568913 -0.019690 -0.4626 -0.469229  0.902504 -1.359303   -0.297771   \n",
       "1  0.824090 -0.019690 -0.4626 -0.469229 -0.484986  0.735671   -0.297771   \n",
       "2  0.824090 -0.808474 -0.4626 -0.469229 -0.446711  0.735671   -0.297771   \n",
       "3  0.824090 -0.194976 -0.4626 -0.469229 -0.417529  0.735671   -0.297771   \n",
       "4  0.824090  0.243238 -0.4626 -0.469229 -0.596547  0.735671   -0.297771   \n",
       "\n",
       "   Embarked_S  Survived  \n",
       "0   -1.651449         1  \n",
       "1    0.605529         0  \n",
       "2   -1.651449         0  \n",
       "3    0.605529         0  \n",
       "4   -1.651449         0  "
      ]
     },
     "execution_count": 195,
     "metadata": {},
     "output_type": "execute_result"
    }
   ],
   "source": [
    "scaled.head()"
   ]
  },
  {
   "cell_type": "markdown",
   "id": "a7b2be55-5d83-43ae-8d47-0eb649ab6845",
   "metadata": {},
   "source": [
    "## Advance Visualization by Heatmap"
   ]
  },
  {
   "cell_type": "code",
   "execution_count": 202,
   "id": "52dd47db-00a2-4569-a99d-9837c6860c96",
   "metadata": {},
   "outputs": [
    {
     "data": {
      "image/png": "[encoded data removed]",
      "text/plain": [
       "<Figure size 1200x800 with 2 Axes>"
      ]
     },
     "metadata": {},
     "output_type": "display_data"
    }
   ],
   "source": [
    "# Correlation heatmap\n",
    "\n",
    "plt.figure(figsize=(12, 8))\n",
    "\n",
    "# Select only numeric features for correlation calculation\n",
    "\n",
    "numeric_features = data.select_dtypes(include=np.number)\n",
    "\n",
    "sns.heatmap(numeric_features.corr(), annot=True, cmap='coolwarm', fmt=\".2f\")\n",
    "\n",
    "plt.title('Feature Correlation Heatmap')\n",
    "\n",
    "plt.show()"
   ]
  },
  {
   "cell_type": "markdown",
   "id": "57b4317a-f581-42f7-826f-50247dac6f63",
   "metadata": {},
   "source": [
    "# **SUMMARY**"
   ]
  },
  {
   "cell_type": "markdown",
   "id": "5a9cc317-e7ba-4dca-a259-0f14ab0c57f6",
   "metadata": {},
   "source": [
    "### 1. *Females* had a significantly higher survival rate compared to males. \n",
    "### 2. Passengers in *1st class* had much better survival chances compared to those in 2nd or 3rd class.\n",
    "### 3. *Higher ticket fares were associated with increased survival rates*, thus *first class* passengers mostly survived.\n",
    "### 4. Passengers who embarked at Cherbourg (C) had the highest survival rate.\n",
    "### 5. Passengers who boarded at Southampton (S) had moderate survival chances.\n",
    "### 6. Queenstown (Q) passengers had the lowest survival rates."
   ]
  },
  {
   "cell_type": "code",
   "execution_count": null,
   "id": "d1a362f7-8bcf-4e00-b69c-2f8c0df50b5d",
   "metadata": {},
   "outputs": [],
   "source": []
  }
 ],
 "metadata": {
  "kernelspec": {
   "display_name": "Python 3 (ipykernel)",
   "language": "python",
   "name": "python3"
  },
  "language_info": {
   "codemirror_mode": {
    "name": "ipython",
    "version": 3
   },
   "file_extension": ".py",
   "mimetype": "text/x-python",
   "name": "python",
   "nbconvert_exporter": "python",
   "pygments_lexer": "ipython3",
   "version": "3.12.4"
  }
 },
 "nbformat": 4,
 "nbformat_minor": 5
}
